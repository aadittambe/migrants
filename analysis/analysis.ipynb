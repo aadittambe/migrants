{
 "cells": [
  {
   "cell_type": "markdown",
   "id": "44637cf2-dbbc-4326-a4ae-430adf79175a",
   "metadata": {},
   "source": [
    "# Data analysis for migrants project"
   ]
  },
  {
   "cell_type": "markdown",
   "id": "eb631549-66f0-45e2-9138-146c0b93f756",
   "metadata": {
    "tags": []
   },
   "source": [
    "## Install libraries"
   ]
  },
  {
   "cell_type": "code",
   "execution_count": 1,
   "id": "54923034-44bc-49db-8a51-267c79189054",
   "metadata": {},
   "outputs": [],
   "source": [
    "import pandas as pd\n",
    "import calendar\n",
    "pd.set_option('display.max_columns', None)\n",
    "pd.set_option('display.max_rows', 50)"
   ]
  },
  {
   "cell_type": "markdown",
   "id": "031c3010-b0bd-4648-9d98-6a1db5e91f46",
   "metadata": {
    "tags": []
   },
   "source": [
    "## Load data and clean it"
   ]
  },
  {
   "cell_type": "markdown",
   "id": "0feb54d6-6271-4f2c-9200-0ba40dc48c06",
   "metadata": {},
   "source": [
    "### Get data from website"
   ]
  },
  {
   "cell_type": "code",
   "execution_count": 2,
   "id": "70587dee-8b6a-4def-8120-7b9fdeb37428",
   "metadata": {},
   "outputs": [],
   "source": [
    "data = pd.read_csv(\"https://missingmigrants.iom.int/sites/g/files/tmzbdl601/files/2022-02/Missing_Migrants_Global_Figures.csv\")"
   ]
  },
  {
   "cell_type": "markdown",
   "id": "0037a867-aa9a-4a98-a1c5-39e3a6a18d0f",
   "metadata": {},
   "source": [
    "### Clean up columns and column names"
   ]
  },
  {
   "cell_type": "code",
   "execution_count": 3,
   "id": "ccc1d94f-1b0d-4ca3-9e02-ba9662fae46f",
   "metadata": {},
   "outputs": [
    {
     "name": "stdout",
     "output_type": "stream",
     "text": [
      "<class 'pandas.core.frame.DataFrame'>\n",
      "RangeIndex: 10274 entries, 0 to 10273\n",
      "Data columns (total 24 columns):\n",
      " #   Column                               Non-Null Count  Dtype  \n",
      "---  ------                               --------------  -----  \n",
      " 0   main_id                              10274 non-null  object \n",
      " 1   incident_id                          10274 non-null  object \n",
      " 2   incident_type                        10274 non-null  object \n",
      " 3   region_of_incident                   10274 non-null  object \n",
      " 4   incident_date                        10259 non-null  object \n",
      " 5   incident_year                        10274 non-null  int64  \n",
      " 6   reported_month                       10274 non-null  object \n",
      " 7   number_of_dead                       9844 non-null   float64\n",
      " 8   minimum_estimated_number_of_missing  975 non-null    float64\n",
      " 9   total_number_of_dead_and_missing     10274 non-null  int64  \n",
      " 10  number_of_survivors                  1511 non-null   float64\n",
      " 11  number_of_females                    1930 non-null   float64\n",
      " 12  number_of_males                      6237 non-null   float64\n",
      " 13  number_of_children                   1277 non-null   float64\n",
      " 14  region_of_origin                     10274 non-null  object \n",
      " 15  cause_of_death                       10274 non-null  object \n",
      " 16  migration_route                      8034 non-null   object \n",
      " 17  location_of_death                    10274 non-null  object \n",
      " 18  information_source                   10262 non-null  object \n",
      " 19  coordinates                          10217 non-null  object \n",
      " 20  unsd_geographical_grouping           10273 non-null  object \n",
      " 21  article_title                        3935 non-null   object \n",
      " 22  source_quality                       10234 non-null  float64\n",
      " 23  url                                  7747 non-null   object \n",
      "dtypes: float64(7), int64(2), object(15)\n",
      "memory usage: 1.9+ MB\n"
     ]
    }
   ],
   "source": [
    "cols = data.columns\n",
    "new_column_names = []\n",
    "for col in cols:\n",
    "    new_col = col.lstrip().rstrip().lower().replace (\" \", \"_\")\n",
    "    new_column_names.append(new_col)\n",
    "data.columns = new_column_names\n",
    "data.info()"
   ]
  },
  {
   "cell_type": "markdown",
   "id": "54e6722e-a32e-4fb3-a6ec-5d0a5bd4ddb3",
   "metadata": {
    "tags": []
   },
   "source": [
    "### Clean up coordiantes"
   ]
  },
  {
   "cell_type": "code",
   "execution_count": 4,
   "id": "a927a8b9-4218-4d6d-a8dd-2717ae20bc7e",
   "metadata": {},
   "outputs": [
    {
     "name": "stdout",
     "output_type": "stream",
     "text": [
      "<class 'pandas.core.frame.DataFrame'>\n",
      "RangeIndex: 10274 entries, 0 to 10273\n",
      "Data columns (total 26 columns):\n",
      " #   Column                               Non-Null Count  Dtype  \n",
      "---  ------                               --------------  -----  \n",
      " 0   main_id                              10274 non-null  object \n",
      " 1   incident_id                          10274 non-null  object \n",
      " 2   incident_type                        10274 non-null  object \n",
      " 3   region_of_incident                   10274 non-null  object \n",
      " 4   incident_date                        10259 non-null  object \n",
      " 5   incident_year                        10274 non-null  int64  \n",
      " 6   reported_month                       10274 non-null  object \n",
      " 7   number_of_dead                       9844 non-null   float64\n",
      " 8   minimum_estimated_number_of_missing  975 non-null    float64\n",
      " 9   total_number_of_dead_and_missing     10274 non-null  int64  \n",
      " 10  number_of_survivors                  1511 non-null   float64\n",
      " 11  number_of_females                    1930 non-null   float64\n",
      " 12  number_of_males                      6237 non-null   float64\n",
      " 13  number_of_children                   1277 non-null   float64\n",
      " 14  region_of_origin                     10274 non-null  object \n",
      " 15  cause_of_death                       10274 non-null  object \n",
      " 16  migration_route                      8034 non-null   object \n",
      " 17  location_of_death                    10274 non-null  object \n",
      " 18  information_source                   10262 non-null  object \n",
      " 19  coordinates                          10217 non-null  object \n",
      " 20  unsd_geographical_grouping           10273 non-null  object \n",
      " 21  article_title                        3935 non-null   object \n",
      " 22  source_quality                       10234 non-null  float64\n",
      " 23  url                                  7747 non-null   object \n",
      " 24  lon                                  10217 non-null  object \n",
      " 25  lat                                  10217 non-null  object \n",
      "dtypes: float64(7), int64(2), object(17)\n",
      "memory usage: 2.0+ MB\n"
     ]
    },
    {
     "name": "stderr",
     "output_type": "stream",
     "text": [
      "/var/folders/q8/66vcj1g51dvbk436_ltv5wvc0000gn/T/ipykernel_25718/2387212242.py:2: FutureWarning: The default value of regex will change from True to False in a future version. In addition, single character regular expressions will *not* be treated as literal strings when regex=True.\n",
      "  data[\"coordinates\"] = data[\"coordinates\"].str.replace(\"(\",\"\")\n",
      "/var/folders/q8/66vcj1g51dvbk436_ltv5wvc0000gn/T/ipykernel_25718/2387212242.py:3: FutureWarning: The default value of regex will change from True to False in a future version. In addition, single character regular expressions will *not* be treated as literal strings when regex=True.\n",
      "  data[\"coordinates\"] = data[\"coordinates\"].str.replace(\")\",\"\")\n"
     ]
    }
   ],
   "source": [
    "data[\"coordinates\"] = data[\"coordinates\"].str.replace(\"POINT\",\"\")\n",
    "data[\"coordinates\"] = data[\"coordinates\"].str.replace(\"(\",\"\")\n",
    "data[\"coordinates\"] = data[\"coordinates\"].str.replace(\")\",\"\")\n",
    "data[['lon', 'lat']] = data['coordinates'].str.split(expand=True)\n",
    "data.info()"
   ]
  },
  {
   "cell_type": "markdown",
   "id": "56fbed33-0a9a-49f7-ae2d-6e0e6611ce16",
   "metadata": {},
   "source": [
    "### Clean up cause of death"
   ]
  },
  {
   "cell_type": "code",
   "execution_count": 5,
   "id": "83c54d3b-a876-4255-9dfa-15b041c1b253",
   "metadata": {},
   "outputs": [
    {
     "name": "stderr",
     "output_type": "stream",
     "text": [
      "/var/folders/q8/66vcj1g51dvbk436_ltv5wvc0000gn/T/ipykernel_25718/125471667.py:15: SettingWithCopyWarning: \n",
      "A value is trying to be set on a copy of a slice from a DataFrame\n",
      "\n",
      "See the caveats in the documentation: https://pandas.pydata.org/pandas-docs/stable/user_guide/indexing.html#returning-a-view-versus-a-copy\n",
      "  data[\"death_cause_clean\"][index] = \"Mixed or unknown\"\n",
      "/var/folders/q8/66vcj1g51dvbk436_ltv5wvc0000gn/T/ipykernel_25718/125471667.py:5: SettingWithCopyWarning: \n",
      "A value is trying to be set on a copy of a slice from a DataFrame\n",
      "\n",
      "See the caveats in the documentation: https://pandas.pydata.org/pandas-docs/stable/user_guide/indexing.html#returning-a-view-versus-a-copy\n",
      "  data[\"death_cause_clean\"][index] = \"Violence\"\n",
      "/var/folders/q8/66vcj1g51dvbk436_ltv5wvc0000gn/T/ipykernel_25718/125471667.py:7: SettingWithCopyWarning: \n",
      "A value is trying to be set on a copy of a slice from a DataFrame\n",
      "\n",
      "See the caveats in the documentation: https://pandas.pydata.org/pandas-docs/stable/user_guide/indexing.html#returning-a-view-versus-a-copy\n",
      "  data[\"death_cause_clean\"][index] = \"Harsh environmental conditions\"\n",
      "/var/folders/q8/66vcj1g51dvbk436_ltv5wvc0000gn/T/ipykernel_25718/125471667.py:9: SettingWithCopyWarning: \n",
      "A value is trying to be set on a copy of a slice from a DataFrame\n",
      "\n",
      "See the caveats in the documentation: https://pandas.pydata.org/pandas-docs/stable/user_guide/indexing.html#returning-a-view-versus-a-copy\n",
      "  data[\"death_cause_clean\"][index] = \"Drowning\"\n",
      "/var/folders/q8/66vcj1g51dvbk436_ltv5wvc0000gn/T/ipykernel_25718/125471667.py:11: SettingWithCopyWarning: \n",
      "A value is trying to be set on a copy of a slice from a DataFrame\n",
      "\n",
      "See the caveats in the documentation: https://pandas.pydata.org/pandas-docs/stable/user_guide/indexing.html#returning-a-view-versus-a-copy\n",
      "  data[\"death_cause_clean\"][index] = \"Vehicle accident\"\n",
      "/var/folders/q8/66vcj1g51dvbk436_ltv5wvc0000gn/T/ipykernel_25718/125471667.py:13: SettingWithCopyWarning: \n",
      "A value is trying to be set on a copy of a slice from a DataFrame\n",
      "\n",
      "See the caveats in the documentation: https://pandas.pydata.org/pandas-docs/stable/user_guide/indexing.html#returning-a-view-versus-a-copy\n",
      "  data[\"death_cause_clean\"][index] = \"Sickness inadequate healthcare access\"\n",
      "/var/folders/q8/66vcj1g51dvbk436_ltv5wvc0000gn/T/ipykernel_25718/125471667.py:17: SettingWithCopyWarning: \n",
      "A value is trying to be set on a copy of a slice from a DataFrame\n",
      "\n",
      "See the caveats in the documentation: https://pandas.pydata.org/pandas-docs/stable/user_guide/indexing.html#returning-a-view-versus-a-copy\n",
      "  data[\"death_cause_clean\"][index] = \"Accidental death\"\n"
     ]
    },
    {
     "name": "stdout",
     "output_type": "stream",
     "text": [
      "<class 'pandas.core.frame.DataFrame'>\n",
      "RangeIndex: 10274 entries, 0 to 10273\n",
      "Data columns (total 27 columns):\n",
      " #   Column                               Non-Null Count  Dtype  \n",
      "---  ------                               --------------  -----  \n",
      " 0   main_id                              10274 non-null  object \n",
      " 1   incident_id                          10274 non-null  object \n",
      " 2   incident_type                        10274 non-null  object \n",
      " 3   region_of_incident                   10274 non-null  object \n",
      " 4   incident_date                        10259 non-null  object \n",
      " 5   incident_year                        10274 non-null  int64  \n",
      " 6   reported_month                       10274 non-null  object \n",
      " 7   number_of_dead                       9844 non-null   float64\n",
      " 8   minimum_estimated_number_of_missing  975 non-null    float64\n",
      " 9   total_number_of_dead_and_missing     10274 non-null  int64  \n",
      " 10  number_of_survivors                  1511 non-null   float64\n",
      " 11  number_of_females                    1930 non-null   float64\n",
      " 12  number_of_males                      6237 non-null   float64\n",
      " 13  number_of_children                   1277 non-null   float64\n",
      " 14  region_of_origin                     10274 non-null  object \n",
      " 15  cause_of_death                       10274 non-null  object \n",
      " 16  migration_route                      8034 non-null   object \n",
      " 17  location_of_death                    10274 non-null  object \n",
      " 18  information_source                   10262 non-null  object \n",
      " 19  coordinates                          10217 non-null  object \n",
      " 20  unsd_geographical_grouping           10273 non-null  object \n",
      " 21  article_title                        3935 non-null   object \n",
      " 22  source_quality                       10234 non-null  float64\n",
      " 23  url                                  7747 non-null   object \n",
      " 24  lon                                  10217 non-null  object \n",
      " 25  lat                                  10217 non-null  object \n",
      " 26  death_cause_clean                    10274 non-null  object \n",
      "dtypes: float64(7), int64(2), object(18)\n",
      "memory usage: 2.1+ MB\n"
     ]
    }
   ],
   "source": [
    "data[\"death_cause_clean\"]=\"\"\n",
    "for index,row in data.iterrows():\n",
    "    cause = (row[\"cause_of_death\"])\n",
    "    if \"Violence\" in cause:\n",
    "        data[\"death_cause_clean\"][index] = \"Violence\"\n",
    "    elif \"Harsh environmental conditions / lack of adequate shelter, food, water\" in cause:\n",
    "        data[\"death_cause_clean\"][index] = \"Harsh environmental conditions\"\n",
    "    elif \"Drowning\" in cause:\n",
    "        data[\"death_cause_clean\"][index] = \"Drowning\"\n",
    "    elif \"Vehicle accident / death linked to hazardous transport\" in cause:\n",
    "        data[\"death_cause_clean\"][index] = \"Vehicle accident\"\n",
    "    elif \"Sickness / lack of access to adequate healthcare\" in cause:\n",
    "        data[\"death_cause_clean\"][index] = \"Sickness inadequate healthcare access\"\n",
    "    elif \"Mixed or unknown\" in cause:\n",
    "        data[\"death_cause_clean\"][index] = \"Mixed or unknown\"\n",
    "    elif \"Accidental death\" in cause:\n",
    "        data[\"death_cause_clean\"][index] = \"Accidental death\"\n",
    "    else:\n",
    "        print(cause)\n",
    "data.info()"
   ]
  },
  {
   "cell_type": "markdown",
   "id": "a4d8a20b-d014-4c50-a261-caa05c83f6bb",
   "metadata": {},
   "source": [
    "## Analysis"
   ]
  },
  {
   "cell_type": "markdown",
   "id": "c70789e2-25e2-48bf-96c3-b4878792cf46",
   "metadata": {},
   "source": [
    "### Region and cause"
   ]
  },
  {
   "cell_type": "code",
   "execution_count": 9,
   "id": "c4efb5ed-b017-49df-aca9-1712aaf01f3c",
   "metadata": {},
   "outputs": [
    {
     "data": {
      "text/html": [
       "<div>\n",
       "<style scoped>\n",
       "    .dataframe tbody tr th:only-of-type {\n",
       "        vertical-align: middle;\n",
       "    }\n",
       "\n",
       "    .dataframe tbody tr th {\n",
       "        vertical-align: top;\n",
       "    }\n",
       "\n",
       "    .dataframe thead th {\n",
       "        text-align: right;\n",
       "    }\n",
       "</style>\n",
       "<table border=\"1\" class=\"dataframe\">\n",
       "  <thead>\n",
       "    <tr style=\"text-align: right;\">\n",
       "      <th></th>\n",
       "      <th>source</th>\n",
       "      <th>target</th>\n",
       "      <th>value</th>\n",
       "    </tr>\n",
       "  </thead>\n",
       "  <tbody>\n",
       "    <tr>\n",
       "      <th>0</th>\n",
       "      <td>Caribbean</td>\n",
       "      <td>Drowning</td>\n",
       "      <td>926</td>\n",
       "    </tr>\n",
       "    <tr>\n",
       "      <th>1</th>\n",
       "      <td>Caribbean</td>\n",
       "      <td>Harsh environmental conditions</td>\n",
       "      <td>13</td>\n",
       "    </tr>\n",
       "    <tr>\n",
       "      <th>2</th>\n",
       "      <td>Caribbean</td>\n",
       "      <td>Mixed or unknown</td>\n",
       "      <td>63</td>\n",
       "    </tr>\n",
       "    <tr>\n",
       "      <th>3</th>\n",
       "      <td>Caribbean</td>\n",
       "      <td>Vehicle accident</td>\n",
       "      <td>15</td>\n",
       "    </tr>\n",
       "    <tr>\n",
       "      <th>4</th>\n",
       "      <td>Caribbean</td>\n",
       "      <td>Violence</td>\n",
       "      <td>8</td>\n",
       "    </tr>\n",
       "    <tr>\n",
       "      <th>...</th>\n",
       "      <td>...</td>\n",
       "      <td>...</td>\n",
       "      <td>...</td>\n",
       "    </tr>\n",
       "    <tr>\n",
       "      <th>93</th>\n",
       "      <td>Western Asia</td>\n",
       "      <td>Harsh environmental conditions</td>\n",
       "      <td>121</td>\n",
       "    </tr>\n",
       "    <tr>\n",
       "      <th>94</th>\n",
       "      <td>Western Asia</td>\n",
       "      <td>Mixed or unknown</td>\n",
       "      <td>51</td>\n",
       "    </tr>\n",
       "    <tr>\n",
       "      <th>95</th>\n",
       "      <td>Western Asia</td>\n",
       "      <td>Sickness inadequate healthcare access</td>\n",
       "      <td>12</td>\n",
       "    </tr>\n",
       "    <tr>\n",
       "      <th>96</th>\n",
       "      <td>Western Asia</td>\n",
       "      <td>Vehicle accident</td>\n",
       "      <td>148</td>\n",
       "    </tr>\n",
       "    <tr>\n",
       "      <th>97</th>\n",
       "      <td>Western Asia</td>\n",
       "      <td>Violence</td>\n",
       "      <td>295</td>\n",
       "    </tr>\n",
       "  </tbody>\n",
       "</table>\n",
       "<p>98 rows × 3 columns</p>\n",
       "</div>"
      ],
      "text/plain": [
       "          source                                 target  value\n",
       "0      Caribbean                               Drowning    926\n",
       "1      Caribbean         Harsh environmental conditions     13\n",
       "2      Caribbean                       Mixed or unknown     63\n",
       "3      Caribbean                       Vehicle accident     15\n",
       "4      Caribbean                               Violence      8\n",
       "..           ...                                    ...    ...\n",
       "93  Western Asia         Harsh environmental conditions    121\n",
       "94  Western Asia                       Mixed or unknown     51\n",
       "95  Western Asia  Sickness inadequate healthcare access     12\n",
       "96  Western Asia                       Vehicle accident    148\n",
       "97  Western Asia                               Violence    295\n",
       "\n",
       "[98 rows x 3 columns]"
      ]
     },
     "execution_count": 9,
     "metadata": {},
     "output_type": "execute_result"
    }
   ],
   "source": [
    "region_and_cause = data.groupby(['region_of_incident','death_cause_clean'])['total_number_of_dead_and_missing'].sum().reset_index()\n",
    "region_and_cause.rename(columns={'region_of_incident': 'source', 'death_cause_clean': 'target', 'total_number_of_dead_and_missing':'value'}, inplace=True)\n",
    "region_and_cause"
   ]
  },
  {
   "cell_type": "markdown",
   "id": "76d83536-a4c2-4f43-ad12-0ac320d00e3a",
   "metadata": {},
   "source": [
    "### Causes over time (months)"
   ]
  },
  {
   "cell_type": "code",
   "execution_count": 10,
   "id": "832b8db6-6010-4251-b767-50c61fd874c2",
   "metadata": {},
   "outputs": [
    {
     "data": {
      "text/html": [
       "<div>\n",
       "<style scoped>\n",
       "    .dataframe tbody tr th:only-of-type {\n",
       "        vertical-align: middle;\n",
       "    }\n",
       "\n",
       "    .dataframe tbody tr th {\n",
       "        vertical-align: top;\n",
       "    }\n",
       "\n",
       "    .dataframe thead th {\n",
       "        text-align: right;\n",
       "    }\n",
       "</style>\n",
       "<table border=\"1\" class=\"dataframe\">\n",
       "  <thead>\n",
       "    <tr style=\"text-align: right;\">\n",
       "      <th>death_cause_clean</th>\n",
       "      <th>month_year</th>\n",
       "      <th>Accidental death</th>\n",
       "      <th>Drowning</th>\n",
       "      <th>Harsh environmental conditions</th>\n",
       "      <th>Mixed or unknown</th>\n",
       "      <th>Sickness inadequate healthcare access</th>\n",
       "      <th>Vehicle accident</th>\n",
       "      <th>Violence</th>\n",
       "    </tr>\n",
       "  </thead>\n",
       "  <tbody>\n",
       "    <tr>\n",
       "      <th>0</th>\n",
       "      <td>528</td>\n",
       "      <td>0</td>\n",
       "      <td>13</td>\n",
       "      <td>1</td>\n",
       "      <td>11</td>\n",
       "      <td>0</td>\n",
       "      <td>1</td>\n",
       "      <td>2</td>\n",
       "    </tr>\n",
       "    <tr>\n",
       "      <th>1</th>\n",
       "      <td>529</td>\n",
       "      <td>0</td>\n",
       "      <td>25</td>\n",
       "      <td>1</td>\n",
       "      <td>9</td>\n",
       "      <td>5</td>\n",
       "      <td>0</td>\n",
       "      <td>24</td>\n",
       "    </tr>\n",
       "    <tr>\n",
       "      <th>2</th>\n",
       "      <td>530</td>\n",
       "      <td>1</td>\n",
       "      <td>304</td>\n",
       "      <td>2</td>\n",
       "      <td>9</td>\n",
       "      <td>0</td>\n",
       "      <td>11</td>\n",
       "      <td>3</td>\n",
       "    </tr>\n",
       "    <tr>\n",
       "      <th>3</th>\n",
       "      <td>531</td>\n",
       "      <td>0</td>\n",
       "      <td>66</td>\n",
       "      <td>11</td>\n",
       "      <td>11</td>\n",
       "      <td>0</td>\n",
       "      <td>7</td>\n",
       "      <td>11</td>\n",
       "    </tr>\n",
       "    <tr>\n",
       "      <th>4</th>\n",
       "      <td>532</td>\n",
       "      <td>1</td>\n",
       "      <td>398</td>\n",
       "      <td>0</td>\n",
       "      <td>58</td>\n",
       "      <td>0</td>\n",
       "      <td>3</td>\n",
       "      <td>1</td>\n",
       "    </tr>\n",
       "    <tr>\n",
       "      <th>...</th>\n",
       "      <td>...</td>\n",
       "      <td>...</td>\n",
       "      <td>...</td>\n",
       "      <td>...</td>\n",
       "      <td>...</td>\n",
       "      <td>...</td>\n",
       "      <td>...</td>\n",
       "      <td>...</td>\n",
       "    </tr>\n",
       "    <tr>\n",
       "      <th>93</th>\n",
       "      <td>621</td>\n",
       "      <td>5</td>\n",
       "      <td>182</td>\n",
       "      <td>31</td>\n",
       "      <td>64</td>\n",
       "      <td>14</td>\n",
       "      <td>58</td>\n",
       "      <td>23</td>\n",
       "    </tr>\n",
       "    <tr>\n",
       "      <th>94</th>\n",
       "      <td>622</td>\n",
       "      <td>17</td>\n",
       "      <td>165</td>\n",
       "      <td>35</td>\n",
       "      <td>35</td>\n",
       "      <td>13</td>\n",
       "      <td>67</td>\n",
       "      <td>15</td>\n",
       "    </tr>\n",
       "    <tr>\n",
       "      <th>95</th>\n",
       "      <td>623</td>\n",
       "      <td>8</td>\n",
       "      <td>610</td>\n",
       "      <td>12</td>\n",
       "      <td>16</td>\n",
       "      <td>7</td>\n",
       "      <td>99</td>\n",
       "      <td>27</td>\n",
       "    </tr>\n",
       "    <tr>\n",
       "      <th>96</th>\n",
       "      <td>624</td>\n",
       "      <td>0</td>\n",
       "      <td>289</td>\n",
       "      <td>21</td>\n",
       "      <td>12</td>\n",
       "      <td>3</td>\n",
       "      <td>17</td>\n",
       "      <td>5</td>\n",
       "    </tr>\n",
       "    <tr>\n",
       "      <th>97</th>\n",
       "      <td>625</td>\n",
       "      <td>0</td>\n",
       "      <td>54</td>\n",
       "      <td>21</td>\n",
       "      <td>0</td>\n",
       "      <td>1</td>\n",
       "      <td>13</td>\n",
       "      <td>5</td>\n",
       "    </tr>\n",
       "  </tbody>\n",
       "</table>\n",
       "<p>98 rows × 8 columns</p>\n",
       "</div>"
      ],
      "text/plain": [
       "death_cause_clean  month_year  Accidental death  Drowning  \\\n",
       "0                         528                 0        13   \n",
       "1                         529                 0        25   \n",
       "2                         530                 1       304   \n",
       "3                         531                 0        66   \n",
       "4                         532                 1       398   \n",
       "..                        ...               ...       ...   \n",
       "93                        621                 5       182   \n",
       "94                        622                17       165   \n",
       "95                        623                 8       610   \n",
       "96                        624                 0       289   \n",
       "97                        625                 0        54   \n",
       "\n",
       "death_cause_clean  Harsh environmental conditions  Mixed or unknown  \\\n",
       "0                                               1                11   \n",
       "1                                               1                 9   \n",
       "2                                               2                 9   \n",
       "3                                              11                11   \n",
       "4                                               0                58   \n",
       "..                                            ...               ...   \n",
       "93                                             31                64   \n",
       "94                                             35                35   \n",
       "95                                             12                16   \n",
       "96                                             21                12   \n",
       "97                                             21                 0   \n",
       "\n",
       "death_cause_clean  Sickness inadequate healthcare access  Vehicle accident  \\\n",
       "0                                                      0                 1   \n",
       "1                                                      5                 0   \n",
       "2                                                      0                11   \n",
       "3                                                      0                 7   \n",
       "4                                                      0                 3   \n",
       "..                                                   ...               ...   \n",
       "93                                                    14                58   \n",
       "94                                                    13                67   \n",
       "95                                                     7                99   \n",
       "96                                                     3                17   \n",
       "97                                                     1                13   \n",
       "\n",
       "death_cause_clean  Violence  \n",
       "0                         2  \n",
       "1                        24  \n",
       "2                         3  \n",
       "3                        11  \n",
       "4                         1  \n",
       "..                      ...  \n",
       "93                       23  \n",
       "94                       15  \n",
       "95                       27  \n",
       "96                        5  \n",
       "97                        5  \n",
       "\n",
       "[98 rows x 8 columns]"
      ]
     },
     "execution_count": 10,
     "metadata": {},
     "output_type": "execute_result"
    }
   ],
   "source": [
    "month_and_cause = data.groupby(['incident_date','death_cause_clean'])['total_number_of_dead_and_missing'].sum().reset_index()\n",
    "month_and_cause['incident_date'] = pd.to_datetime(month_and_cause['incident_date'])\n",
    "month_and_cause['month_year'] = month_and_cause['incident_date'].dt.to_period('M')\n",
    "month_and_cause.loc[:, month_and_cause.columns!='incident_date']\n",
    "month_and_cause = month_and_cause.groupby(['month_year','death_cause_clean'])['total_number_of_dead_and_missing'].sum().reset_index()\n",
    "month_and_cause = month_and_cause.pivot(index='month_year', columns='death_cause_clean', values='total_number_of_dead_and_missing').reset_index()\n",
    "month_and_cause = month_and_cause.fillna(0).astype(int)\n",
    "month_and_cause"
   ]
  },
  {
   "cell_type": "markdown",
   "id": "a9ea3dae-0f48-4577-aaa3-8bf2056c68a9",
   "metadata": {},
   "source": [
    "### Immigration routes over years"
   ]
  },
  {
   "cell_type": "code",
   "execution_count": 56,
   "id": "f75ebf28-225a-408d-af97-2f0a07fee778",
   "metadata": {},
   "outputs": [
    {
     "name": "stdout",
     "output_type": "stream",
     "text": [
      "<class 'pandas.core.frame.DataFrame'>\n",
      "Int64Index: 46 entries, 0 to 134\n",
      "Data columns (total 3 columns):\n",
      " #   Column                            Non-Null Count  Dtype \n",
      "---  ------                            --------------  ----- \n",
      " 0   incident_year                     46 non-null     int64 \n",
      " 1   migration_route                   46 non-null     object\n",
      " 2   total_number_of_dead_and_missing  46 non-null     int64 \n",
      "dtypes: int64(2), object(1)\n",
      "memory usage: 1.4+ KB\n"
     ]
    }
   ],
   "source": [
    "year_and_route = data.groupby(['incident_year','migration_route'])['total_number_of_dead_and_missing'].sum().reset_index()\n",
    "\n",
    "year_and_route = year_and_route[(year_and_route.migration_route=='US-Mexico border crossing')|\n",
    "                                (year_and_route.migration_route==\"Afghanistan to Iran\")|\n",
    "                                (year_and_route.migration_route==\"Central Mediterranean\")|\n",
    "                               (year_and_route.migration_route==\"Eastern Mediterranean\")|\n",
    "                                (year_and_route.migration_route==\"Sahara Desert crossing\")|\n",
    "                                (year_and_route.migration_route==\"Western Mediterranean\")\n",
    "                               ]\n",
    "\n",
    "year_and_route = year_and_route[(year_and_route.incident_year!=2022)]\n",
    "year_and_route = year_and_route.sort_values([\"incident_year\",\"total_number_of_dead_and_missing\"],ascending=[True, False])\n",
    "year_and_route.info()"
   ]
  },
  {
   "cell_type": "markdown",
   "id": "23c0bb1a-da8b-4fa0-9097-d1a556576ff7",
   "metadata": {},
   "source": [
    "### Data for maps"
   ]
  },
  {
   "cell_type": "markdown",
   "id": "d5101d83-6575-4dd3-9138-c55f76105311",
   "metadata": {},
   "source": [
    "#### US-Mexico border"
   ]
  },
  {
   "cell_type": "code",
   "execution_count": 57,
   "id": "bb30a1fd-f60b-4250-b905-d72066e1dbe8",
   "metadata": {},
   "outputs": [],
   "source": [
    "mexico_to_us = data[data.migration_route == \"US-Mexico border crossing\"]"
   ]
  },
  {
   "cell_type": "markdown",
   "id": "1235137c-f6a0-4985-8750-a92f1cb8ca60",
   "metadata": {},
   "source": [
    "#### Europe"
   ]
  },
  {
   "cell_type": "code",
   "execution_count": 58,
   "id": "4da248b6-e084-4297-8e90-4124d4aefee5",
   "metadata": {},
   "outputs": [],
   "source": [
    "regions = ['Europe','Mediterranean','Northern Africa']\n",
    "europe = data[data['region_of_incident'].isin(regions)]"
   ]
  },
  {
   "cell_type": "markdown",
   "id": "d7bc49ff-8883-42e8-a269-fe330fed84f4",
   "metadata": {},
   "source": [
    "## Write out data"
   ]
  },
  {
   "cell_type": "code",
   "execution_count": 12,
   "id": "e7daf64b-7163-41bd-92a6-4af7b2696b3f",
   "metadata": {},
   "outputs": [],
   "source": [
    "data.to_csv(\"../data/data.csv\",index=False)\n",
    "region_and_cause.to_csv(\"../data/region_and_cause.csv\", index = False)\n",
    "month_and_cause.to_csv(\"../data/month_and_cause.csv\",index=False)\n",
    "year_and_route.to_csv(\"../data/year_and_route.csv\",index=False)\n",
    "mexico_to_us.to_csv(\"../data/mexico_to_us.csv\",index=False)\n",
    "europe.to_csv(\"../data/europe.csv\",index=False)"
   ]
  },
  {
   "cell_type": "markdown",
   "id": "6c056333-16f2-48c8-9e23-5c04279edebf",
   "metadata": {},
   "source": [
    "-30-"
   ]
  }
 ],
 "metadata": {
  "kernelspec": {
   "display_name": "Python 3 (ipykernel)",
   "language": "python",
   "name": "python3"
  },
  "language_info": {
   "codemirror_mode": {
    "name": "ipython",
    "version": 3
   },
   "file_extension": ".py",
   "mimetype": "text/x-python",
   "name": "python",
   "nbconvert_exporter": "python",
   "pygments_lexer": "ipython3",
   "version": "3.10.2"
  }
 },
 "nbformat": 4,
 "nbformat_minor": 5
}
