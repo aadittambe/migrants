{
 "cells": [
  {
   "cell_type": "markdown",
   "id": "44637cf2-dbbc-4326-a4ae-430adf79175a",
   "metadata": {},
   "source": [
    "# Data analysis for migrants project"
   ]
  },
  {
   "cell_type": "markdown",
   "id": "eb631549-66f0-45e2-9138-146c0b93f756",
   "metadata": {
    "tags": []
   },
   "source": [
    "## Install libraries"
   ]
  },
  {
   "cell_type": "code",
   "execution_count": null,
   "id": "54923034-44bc-49db-8a51-267c79189054",
   "metadata": {},
   "outputs": [],
   "source": [
    "import pandas as pd\n",
    "import calendar\n",
    "pd.set_option('display.max_columns', None)\n",
    "pd.set_option('display.max_rows', 50)"
   ]
  },
  {
   "cell_type": "markdown",
   "id": "031c3010-b0bd-4648-9d98-6a1db5e91f46",
   "metadata": {
    "tags": []
   },
   "source": [
    "## Load data and clean it"
   ]
  },
  {
   "cell_type": "markdown",
   "id": "0feb54d6-6271-4f2c-9200-0ba40dc48c06",
   "metadata": {},
   "source": [
    "### Get data from website"
   ]
  },
  {
   "cell_type": "code",
   "execution_count": null,
   "id": "70587dee-8b6a-4def-8120-7b9fdeb37428",
   "metadata": {},
   "outputs": [],
   "source": [
    "data = pd.read_csv(\"https://missingmigrants.iom.int/sites/g/files/tmzbdl601/files/2022-02/Missing_Migrants_Global_Figures.csv\")"
   ]
  },
  {
   "cell_type": "markdown",
   "id": "0037a867-aa9a-4a98-a1c5-39e3a6a18d0f",
   "metadata": {},
   "source": [
    "### Clean up columns and column names"
   ]
  },
  {
   "cell_type": "code",
   "execution_count": null,
   "id": "ccc1d94f-1b0d-4ca3-9e02-ba9662fae46f",
   "metadata": {},
   "outputs": [],
   "source": [
    "cols = data.columns\n",
    "new_column_names = []\n",
    "for col in cols:\n",
    "    new_col = col.lstrip().rstrip().lower().replace (\" \", \"_\")\n",
    "    new_column_names.append(new_col)\n",
    "data.columns = new_column_names\n",
    "data.info()"
   ]
  },
  {
   "cell_type": "markdown",
   "id": "54e6722e-a32e-4fb3-a6ec-5d0a5bd4ddb3",
   "metadata": {
    "tags": []
   },
   "source": [
    "### Clean up coordiantes"
   ]
  },
  {
   "cell_type": "code",
   "execution_count": null,
   "id": "a927a8b9-4218-4d6d-a8dd-2717ae20bc7e",
   "metadata": {},
   "outputs": [],
   "source": [
    "data[\"coordinates\"] = data[\"coordinates\"].str.replace(\"POINT\",\"\")\n",
    "data[\"coordinates\"] = data[\"coordinates\"].str.replace(\"(\",\"\")\n",
    "data[\"coordinates\"] = data[\"coordinates\"].str.replace(\")\",\"\")\n",
    "data[['lon', 'lat']] = data['coordinates'].str.split(expand=True)\n",
    "data.info()"
   ]
  },
  {
   "cell_type": "markdown",
   "id": "56fbed33-0a9a-49f7-ae2d-6e0e6611ce16",
   "metadata": {},
   "source": [
    "### Clean up cause of death"
   ]
  },
  {
   "cell_type": "code",
   "execution_count": null,
   "id": "83c54d3b-a876-4255-9dfa-15b041c1b253",
   "metadata": {},
   "outputs": [],
   "source": [
    "data[\"death_cause_clean\"]=\"\"\n",
    "for index,row in data.iterrows():\n",
    "    cause = (row[\"cause_of_death\"])\n",
    "    if \"Violence\" in cause:\n",
    "        data[\"death_cause_clean\"][index] = \"Violence\"\n",
    "    elif \"Harsh environmental conditions / lack of adequate shelter, food, water\" in cause:\n",
    "        data[\"death_cause_clean\"][index] = \"Harsh environmental conditions\"\n",
    "    elif \"Drowning\" in cause:\n",
    "        data[\"death_cause_clean\"][index] = \"Drowning\"\n",
    "    elif \"Vehicle accident / death linked to hazardous transport\" in cause:\n",
    "        data[\"death_cause_clean\"][index] = \"Vehicle accident\"\n",
    "    elif \"Sickness / lack of access to adequate healthcare\" in cause:\n",
    "        data[\"death_cause_clean\"][index] = \"Inadequate healthcare access\"\n",
    "    elif \"Mixed or unknown\" in cause:\n",
    "        data[\"death_cause_clean\"][index] = \"Mixed or unknown\"\n",
    "    elif \"Accidental death\" in cause:\n",
    "        data[\"death_cause_clean\"][index] = \"Accidental death\"\n",
    "    else:\n",
    "        print(cause)\n",
    "data.info()"
   ]
  },
  {
   "cell_type": "markdown",
   "id": "a4d8a20b-d014-4c50-a261-caa05c83f6bb",
   "metadata": {},
   "source": [
    "## Analysis"
   ]
  },
  {
   "cell_type": "markdown",
   "id": "c70789e2-25e2-48bf-96c3-b4878792cf46",
   "metadata": {},
   "source": [
    "### Region and cause"
   ]
  },
  {
   "cell_type": "code",
   "execution_count": null,
   "id": "c4efb5ed-b017-49df-aca9-1712aaf01f3c",
   "metadata": {},
   "outputs": [],
   "source": [
    "region_and_cause = data.groupby(['region_of_incident','death_cause_clean'])['total_number_of_dead_and_missing'].sum().reset_index()\n",
    "region_and_cause.rename(columns={'region_of_incident': 'source', 'death_cause_clean': 'target', 'total_number_of_dead_and_missing':'value'}, inplace=True)\n",
    "region_and_cause"
   ]
  },
  {
   "cell_type": "markdown",
   "id": "76d83536-a4c2-4f43-ad12-0ac320d00e3a",
   "metadata": {},
   "source": [
    "### Causes over time (months)"
   ]
  },
  {
   "cell_type": "code",
   "execution_count": null,
   "id": "832b8db6-6010-4251-b767-50c61fd874c2",
   "metadata": {},
   "outputs": [],
   "source": [
    "month_and_cause = data.groupby(['incident_date','death_cause_clean'])['total_number_of_dead_and_missing'].sum().reset_index()\n",
    "month_and_cause['incident_date'] = pd.to_datetime(month_and_cause['incident_date'])\n",
    "month_and_cause['month_year'] = month_and_cause['incident_date'].dt.to_period('M')\n",
    "month_and_cause.loc[:, month_and_cause.columns!='incident_date']\n",
    "month_and_cause = month_and_cause.groupby(['month_year','death_cause_clean'])['total_number_of_dead_and_missing'].sum().reset_index()\n",
    "month_and_cause = month_and_cause.pivot(index='month_year', columns='death_cause_clean', values='total_number_of_dead_and_missing').reset_index()\n",
    "cols = ['Accidental death', 'Drowning', 'Harsh environmental conditions','Mixed or unknown','Inadequate healthcare access','Vehicle accident','Violence']\n",
    "month_and_cause[cols] = month_and_cause[cols].fillna(0).astype(int)\n",
    "month_and_cause"
   ]
  },
  {
   "cell_type": "markdown",
   "id": "a9ea3dae-0f48-4577-aaa3-8bf2056c68a9",
   "metadata": {},
   "source": [
    "### Immigration routes over years"
   ]
  },
  {
   "cell_type": "code",
   "execution_count": null,
   "id": "f75ebf28-225a-408d-af97-2f0a07fee778",
   "metadata": {},
   "outputs": [],
   "source": [
    "year_and_route = data.groupby(['incident_year','migration_route'])['total_number_of_dead_and_missing'].sum().reset_index()\n",
    "\n",
    "year_and_route = year_and_route[(year_and_route.migration_route=='US-Mexico border crossing')|\n",
    "                                (year_and_route.migration_route==\"Afghanistan to Iran\")|\n",
    "                                (year_and_route.migration_route==\"Central Mediterranean\")|\n",
    "                               (year_and_route.migration_route==\"Eastern Mediterranean\")|\n",
    "                                (year_and_route.migration_route==\"Sahara Desert crossing\")|\n",
    "                                (year_and_route.migration_route==\"Western Mediterranean\")\n",
    "                               ]\n",
    "\n",
    "year_and_route = year_and_route[(year_and_route.incident_year!=2022)]\n",
    "year_and_route = year_and_route.sort_values([\"incident_year\",\"total_number_of_dead_and_missing\"],ascending=[True, False])\n",
    "year_and_route.info()"
   ]
  },
  {
   "cell_type": "markdown",
   "id": "23c0bb1a-da8b-4fa0-9097-d1a556576ff7",
   "metadata": {},
   "source": [
    "### Data for maps"
   ]
  },
  {
   "cell_type": "markdown",
   "id": "d5101d83-6575-4dd3-9138-c55f76105311",
   "metadata": {},
   "source": [
    "#### US-Mexico border"
   ]
  },
  {
   "cell_type": "code",
   "execution_count": null,
   "id": "bb30a1fd-f60b-4250-b905-d72066e1dbe8",
   "metadata": {},
   "outputs": [],
   "source": [
    "mexico_to_us = data[data.migration_route == \"US-Mexico border crossing\"]"
   ]
  },
  {
   "cell_type": "markdown",
   "id": "1235137c-f6a0-4985-8750-a92f1cb8ca60",
   "metadata": {},
   "source": [
    "#### Europe"
   ]
  },
  {
   "cell_type": "code",
   "execution_count": null,
   "id": "4da248b6-e084-4297-8e90-4124d4aefee5",
   "metadata": {},
   "outputs": [],
   "source": [
    "regions = ['Europe','Mediterranean','Northern Africa']\n",
    "europe = data[data['region_of_incident'].isin(regions)]"
   ]
  },
  {
   "cell_type": "markdown",
   "id": "5fc9e8dc-ed37-43f6-b95c-cee0dfc3d3ba",
   "metadata": {},
   "source": [
    "### What percent of deaths are due to each cause?"
   ]
  },
  {
   "cell_type": "code",
   "execution_count": null,
   "id": "4688e329-d991-400f-b672-75c131f39fd0",
   "metadata": {},
   "outputs": [],
   "source": [
    "drowning_cases = data.groupby(['death_cause_clean'])['total_number_of_dead_and_missing'].sum().reset_index()\n",
    "drowning_cases\n",
    "drowning_cases[\"percent_cases\"] = ((drowning_cases[\"total_number_of_dead_and_missing\"])/drowning_cases['total_number_of_dead_and_missing'].sum())*100"
   ]
  },
  {
   "cell_type": "markdown",
   "id": "d7bc49ff-8883-42e8-a269-fe330fed84f4",
   "metadata": {},
   "source": [
    "## Write out data"
   ]
  },
  {
   "cell_type": "code",
   "execution_count": null,
   "id": "e7daf64b-7163-41bd-92a6-4af7b2696b3f",
   "metadata": {},
   "outputs": [],
   "source": [
    "data.to_csv(\"../data/data.csv\",index=False)\n",
    "region_and_cause.to_csv(\"../data/region_and_cause.csv\", index = False)\n",
    "month_and_cause.to_csv(\"../data/month_and_cause.csv\",index=False)\n",
    "year_and_route.to_csv(\"../data/year_and_route.csv\",index=False)\n",
    "mexico_to_us.to_csv(\"../data/mexico_to_us.csv\",index=False)\n",
    "europe.to_csv(\"../data/europe.csv\",index=False)"
   ]
  },
  {
   "cell_type": "markdown",
   "id": "6c056333-16f2-48c8-9e23-5c04279edebf",
   "metadata": {},
   "source": [
    "-30-"
   ]
  }
 ],
 "metadata": {
  "kernelspec": {
   "display_name": "Python 3 (ipykernel)",
   "language": "python",
   "name": "python3"
  },
  "language_info": {
   "codemirror_mode": {
    "name": "ipython",
    "version": 3
   },
   "file_extension": ".py",
   "mimetype": "text/x-python",
   "name": "python",
   "nbconvert_exporter": "python",
   "pygments_lexer": "ipython3",
   "version": "3.10.2"
  }
 },
 "nbformat": 4,
 "nbformat_minor": 5
}
